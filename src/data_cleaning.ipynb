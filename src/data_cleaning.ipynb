{
 "cells": [
  {
   "attachments": {},
   "cell_type": "markdown",
   "metadata": {},
   "source": [
    "## Imports"
   ]
  },
  {
   "cell_type": "code",
   "execution_count": null,
   "metadata": {},
   "outputs": [],
   "source": [
    "import pandas as pd\n",
    "import data_loader\n",
    "import os"
   ]
  },
  {
   "attachments": {},
   "cell_type": "markdown",
   "metadata": {},
   "source": [
    "## Variables"
   ]
  },
  {
   "cell_type": "code",
   "execution_count": null,
   "metadata": {},
   "outputs": [],
   "source": [
    "data_path = './data/chatgpt.csv'"
   ]
  },
  {
   "attachments": {},
   "cell_type": "markdown",
   "metadata": {},
   "source": [
    "## Load Data"
   ]
  },
  {
   "cell_type": "code",
   "execution_count": null,
   "metadata": {},
   "outputs": [],
   "source": [
    "if not os.path.exists(data_path):\n",
    "        print('### Downloading data ###')\n",
    "        data_loader.download_dataset()\n",
    "df = pd.read_csv(data_path)\n",
    "df.head()"
   ]
  },
  {
   "attachments": {},
   "cell_type": "markdown",
   "metadata": {},
   "source": [
    "## Data Cleaning"
   ]
  },
  {
   "cell_type": "code",
   "execution_count": null,
   "metadata": {},
   "outputs": [],
   "source": [
    "import html\n",
    "# Remove duplicates\n",
    "df = df.drop_duplicates(subset=['tweet_id', 'tweet'])\n",
    "\n",
    "# Drop unimportant (sparse) columns\n",
    "if 'country' in df: # if not already dropped\n",
    "    df = df.drop(['country', 'country_code', 'city', 'photo_url'], axis=1)\n",
    "\n",
    "# Unescape characters\n",
    "df = df.replace(r'\\n|\\\\n', ' ', regex=True)\n",
    "df.tweet = df.tweet.apply(html.unescape)\n",
    "\n",
    "# Remove hashtags and link\n",
    "df['tweet'] = df['tweet'].replace(r'(@[A-Za-z0–9_]+)|#|http\\S+', \"\", regex=True)\n",
    "\n",
    "df.to_csv('data/chatgpt_cleaned.csv')"
   ]
  }
 ],
 "metadata": {
  "kernelspec": {
   "display_name": "env",
   "language": "python",
   "name": "python3"
  },
  "language_info": {
   "codemirror_mode": {
    "name": "ipython",
    "version": 3
   },
   "file_extension": ".py",
   "mimetype": "text/x-python",
   "name": "python",
   "nbconvert_exporter": "python",
   "pygments_lexer": "ipython3",
   "version": "3.11.3"
  },
  "orig_nbformat": 4
 },
 "nbformat": 4,
 "nbformat_minor": 2
}
